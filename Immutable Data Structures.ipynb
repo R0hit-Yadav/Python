{
 "cells": [
  {
   "cell_type": "code",
   "execution_count": 1,
   "id": "dc3ad649-581a-4e74-8f0c-a0bb96f6bf2e",
   "metadata": {},
   "outputs": [
    {
     "name": "stdout",
     "output_type": "stream",
     "text": [
      "1387544988592\n",
      "Welcome LJU\n",
      "1387544948656\n",
      "Welcome LJU2022\n"
     ]
    }
   ],
   "source": [
    "#ऊँ गणेशाय नमः🙏\n",
    "#PYTHON-Immutable Data Structures\n",
    "s=\"Welcome LJU\"\n",
    "print(id(s))\n",
    "print(s)\n",
    "#you can update the value of a string by assigning a new string to the same string variable\n",
    "s=s+\"2022\"\n",
    "print(id(s))\n",
    "print(s)"
   ]
  },
  {
   "cell_type": "code",
   "execution_count": 2,
   "id": "916ccf2d-c05d-4226-8f12-5f873b45102a",
   "metadata": {},
   "outputs": [
    {
     "name": "stdout",
     "output_type": "stream",
     "text": [
      "welcome\n",
      "welcome\n",
      "welcome\n",
      "hello\n",
      "my name is rohit \n"
     ]
    }
   ],
   "source": [
    "s=\"welcome\"\n",
    "s1='welcome'\n",
    "s2='''welcome''' #for multiple String \n",
    "s3=\"\"\"hello\n",
    "my name is rohit \"\"\"\n",
    "print(s)\n",
    "print(s1)\n",
    "print(s2)\n",
    "print(s3)"
   ]
  },
  {
   "cell_type": "code",
   "execution_count": 3,
   "id": "428ae756-376b-49fc-b633-f718d48be684",
   "metadata": {},
   "outputs": [
    {
     "name": "stdout",
     "output_type": "stream",
     "text": [
      "it's blowing outside\n"
     ]
    }
   ],
   "source": [
    "#s='it's blowing outside'  it is not possible\n",
    "s=\"it's blowing outside\"\n",
    "print(s)"
   ]
  },
  {
   "cell_type": "code",
   "execution_count": 4,
   "id": "19fa2fc6-7578-4951-b141-a106cf4dd395",
   "metadata": {},
   "outputs": [
    {
     "name": "stdout",
     "output_type": "stream",
     "text": [
      "10 -- 140735645652040 -- <class 'int'>\n",
      "10 -- 1387544960368 -- <class 'str'>\n"
     ]
    }
   ],
   "source": [
    "a=10\n",
    "print(a,\"--\",id(a),\"--\",type(a))\n",
    "a=str(a)\n",
    "print(a,\"--\",id(a),\"--\",type(a))"
   ]
  },
  {
   "cell_type": "code",
   "execution_count": 5,
   "id": "be50f71f-6fff-49c4-90e2-f2a2182719eb",
   "metadata": {},
   "outputs": [
    {
     "name": "stdout",
     "output_type": "stream",
     "text": [
      "h\n",
      "e\n",
      "d\n",
      "l\n"
     ]
    }
   ],
   "source": [
    "#====>Accessing substring from a string<============\n",
    "#posative indexing (left to right)(0 to n-1 here n in number of charcter in String)\n",
    "s=\"hello world\"\n",
    "print(s[0])\n",
    "print(s[1])\n",
    "# print(s[40]) #error= String index out of range\n",
    "\n",
    "#nagative indexing(right to left)(start from -1 to -n)\n",
    "print(s[-1])\n",
    "print(s[-2])\n",
    "# print(s[-40])  #error= String index out of range"
   ]
  },
  {
   "cell_type": "code",
   "execution_count": 6,
   "id": "95a95203-eb2b-4af0-876e-364bb3bf5536",
   "metadata": {},
   "outputs": [
    {
     "name": "stdout",
     "output_type": "stream",
     "text": [
      "1- hello \n",
      "2- l\n",
      "3- llo world\n",
      "4- hello worl\n",
      "5- hello world\n",
      "6- hello w\n",
      "7- llo worl\n",
      "8- hello wor\n",
      "9- ello worl\n",
      "10- \n",
      "slicing with step\n",
      "1- hlo\n",
      "2- l\n",
      "3- leh\n",
      "4- hlwl\n",
      "5- hlowrd\n",
      "6- hlw\n",
      "7- lowr\n",
      "8- hlowr\n",
      "9- eoo\n",
      "10- dr\n",
      "11- world\n",
      "For reverse\n",
      "dlrow olleh\n"
     ]
    }
   ],
   "source": [
    "#Slicing\n",
    "s=\"hello world\"\n",
    "print(\"1-\",s[0:6])\n",
    "print(\"2-\",s[2:3])\n",
    "print(\"3-\",s[2:])\n",
    "print(\"4-\",s[:-1])\n",
    "print(\"5-\",s[:])\n",
    "print(\"6-\",s[0:7])\n",
    "print(\"7-\",s[2:-1])\n",
    "print(\"8-\",s[:-2])\n",
    "print(\"9-\",s[1:-1])\n",
    "print(\"10-\",s[-1:-5]) #it's space\n",
    "\n",
    "\n",
    "#slicing with step\n",
    "print(\"slicing with step\")\n",
    "print(\"1-\",s[0:6:2])\n",
    "print(\"2-\",s[2:4:2])\n",
    "print(\"3-\",s[2::-1])\n",
    "print(\"4-\",s[:-1:3])\n",
    "print(\"5-\",s[::2])\n",
    "print(\"6-\",s[0:7:3])\n",
    "print(\"7-\",s[2:-1:2])\n",
    "print(\"8-\",s[:-2:2])\n",
    "print(\"9-\",s[1:-1:3])\n",
    "print(\"10-\",s[-1:-5:-2])\n",
    "print(\"11-\",s[-5::])\n",
    "\n",
    "print(\"For reverse\")\n",
    "print(s[::-1])\n",
    "\n",
    "\n"
   ]
  },
  {
   "cell_type": "code",
   "execution_count": 7,
   "id": "138c84b9-767e-4b86-92f0-4a53c92e9cfb",
   "metadata": {},
   "outputs": [
    {
     "name": "stdout",
     "output_type": "stream",
     "text": [
      "MY NAME IS YASH\n",
      "**************************************************\n",
      "1387524197104\n",
      "hellostudent\n",
      "1387545042736\n"
     ]
    }
   ],
   "source": [
    "#Opreationd on strings like arithmetic,relational,logical,loops,membership\n",
    "print(\"MY \"+\"NAME \"+\"IS YASH\")\n",
    "print(\"*\"*50)\n",
    "str=\"hello\" \n",
    "print(id(str)) \n",
    "str+=\"student\" \n",
    "print(str)\n",
    "print(id(str))"
   ]
  },
  {
   "cell_type": "code",
   "execution_count": 8,
   "id": "e7dbc01c-2c45-43f3-8246-8a4beb0e3955",
   "metadata": {},
   "outputs": [
    {
     "name": "stdout",
     "output_type": "stream",
     "text": [
      "False\n",
      "True\n",
      "False\n",
      "False\n",
      "False\n"
     ]
    }
   ],
   "source": [
    "#Relational opreations\n",
    "print(\"delhi\"==\"gandhinagar\")\n",
    "print(\"delhi\"==\"delhi\")\n",
    "print('delhi' != 'delhi')\n",
    "print('mumbai' > 'pune') # lexiographically\n",
    "print('Pune' > 'pune')\n"
   ]
  },
  {
   "cell_type": "code",
   "execution_count": 9,
   "id": "be2eca16-64e1-4980-af36-1a2638f04d16",
   "metadata": {},
   "outputs": [
    {
     "name": "stdout",
     "output_type": "stream",
     "text": [
      "world\n",
      "hello\n",
      "\n",
      "world\n",
      "False\n",
      "True\n"
     ]
    }
   ],
   "source": [
    "#Logical OPreations\n",
    "print('hello' and 'world')\n",
    "print('hello' or 'world')\n",
    "print('' and 'world') #''\n",
    "print('' or 'world')\n",
    "print(not 'hello')\n",
    "print(not \"\")\n"
   ]
  },
  {
   "cell_type": "code",
   "execution_count": 10,
   "id": "c1c48936-c4c8-4781-b165-50ed302eb15d",
   "metadata": {},
   "outputs": [
    {
     "name": "stdout",
     "output_type": "stream",
     "text": [
      "str [ 0 ] =  h\n",
      "str [ 1 ] =  e\n",
      "str [ 2 ] =  l\n",
      "str [ 3 ] =  l\n",
      "str [ 4 ] =  o\n",
      "\n",
      "python\n",
      "python\n",
      "python\n",
      "python\n",
      "python\n",
      "\n",
      "0 -- h\n",
      "1 -- e\n",
      "2 -- l\n",
      "3 -- l\n",
      "4 -- o\n",
      "5 --  \n"
     ]
    }
   ],
   "source": [
    "#Loops on Strings\n",
    "str=\"hello\"\n",
    "index=0\n",
    "for i in str:\n",
    "    print('str [',index,\"] = \",i) \n",
    "    index+=1\n",
    "    \n",
    "print()\n",
    "str=\"hello\"\n",
    "for i in str: \n",
    "    print(\"python\")#print 5 time because hello is 5 char\n",
    "\n",
    "print()\n",
    "str=\"hello \"\n",
    "for index,j in enumerate(str): \n",
    "    print(index,\"--\",j)"
   ]
  },
  {
   "cell_type": "code",
   "execution_count": 11,
   "id": "23332097-f378-489b-b83a-e5c5bc273296",
   "metadata": {},
   "outputs": [
    {
     "name": "stdout",
     "output_type": "stream",
     "text": [
      "False\n",
      "False\n",
      "True\n"
     ]
    }
   ],
   "source": [
    "#Membership Opreations\n",
    "print('D' in 'delhi')\n",
    "print(\"l\" in \"mango\")\n",
    "print(\"l\" not in \"mango\")\n"
   ]
  },
  {
   "cell_type": "code",
   "execution_count": 12,
   "id": "86168a92-eff3-48f3-90ef-f501189ef2d1",
   "metadata": {},
   "outputs": [
    {
     "data": {
      "text/plain": [
       "'=======================================================>Common Functions<===================================================\\nlen \\nmax\\nmin \\nsorted\\n\\n==>String len() method\\nThis len() method returns the length of the string. \\nSyntax:\\nlen(str)\\nParameters\\nNA\\nreturn\\ninteger value\\n\\n==>String max() method\\nThe max() method returns the maximized alphabetical character from the string \\nSyntax:\\nmax(str)\\nParameters\\n\\nstr - From this string, the maximum alphabetical character should be returned \\nreturn\\n\\n==>String min() method\\nThe min() method returns the minimum alphabetical character in the string str. \\nSyntax:\\nmin(str)\\nParameters\\n\\nstr - The string from which the minimum alphabetical character needs to be returned. \\nReturn type\\nThis method returns the minimum alphabetical character from the str string.'"
      ]
     },
     "execution_count": 12,
     "metadata": {},
     "output_type": "execute_result"
    }
   ],
   "source": [
    "'''=======================================================>Common Functions<===================================================\n",
    "len \n",
    "max\n",
    "min \n",
    "sorted\n",
    "\n",
    "==>String len() method\n",
    "This len() method returns the length of the string. \n",
    "Syntax:\n",
    "len(str)\n",
    "Parameters\n",
    "NA\n",
    "return\n",
    "integer value\n",
    "\n",
    "==>String max() method\n",
    "The max() method returns the maximized alphabetical character from the string \n",
    "Syntax:\n",
    "max(str)\n",
    "Parameters\n",
    "\n",
    "str - From this string, the maximum alphabetical character should be returned \n",
    "return\n",
    "\n",
    "==>String min() method\n",
    "The min() method returns the minimum alphabetical character in the string str. \n",
    "Syntax:\n",
    "min(str)\n",
    "Parameters\n",
    "\n",
    "str - The string from which the minimum alphabetical character needs to be returned. \n",
    "Return type\n",
    "This method returns the minimum alphabetical character from the str string.'''\n"
   ]
  },
  {
   "cell_type": "code",
   "execution_count": 13,
   "id": "eff14bc5-bbd0-4bc6-aa60-bef9069a591f",
   "metadata": {},
   "outputs": [
    {
     "name": "stdout",
     "output_type": "stream",
     "text": [
      "10\n",
      "w\n",
      " \n",
      "d\n",
      "[' ', 'd', 'e', 'h', 'l', 'l', 'o', 'o', 'r', 'w']\n",
      "['w', 'r', 'o', 'o', 'l', 'l', 'h', 'e', 'd', ' ']\n"
     ]
    }
   ],
   "source": [
    "str=\"hello word\"\n",
    "print(len(str)) #give total character of string\n",
    "print(max(str)) #give biggest character according to Ascii value\n",
    "print(min(str)) #give smallest character according to Ascii value here space has min ascii value \n",
    "str=\"helloword\"\n",
    "print(min(str))\n",
    "\n",
    "str=\"hello word\" \n",
    "print(sorted(str))\n",
    "\n",
    "str=\"hello word\"\n",
    "print(sorted(str,reverse=True))"
   ]
  },
  {
   "cell_type": "code",
   "execution_count": 14,
   "id": "406bbbe5-dc5b-4b4a-a90e-2721bf081468",
   "metadata": {},
   "outputs": [
    {
     "data": {
      "text/plain": [
       "['Formatter',\n",
       " 'Template',\n",
       " '_ChainMap',\n",
       " '__all__',\n",
       " '__builtins__',\n",
       " '__cached__',\n",
       " '__doc__',\n",
       " '__file__',\n",
       " '__loader__',\n",
       " '__name__',\n",
       " '__package__',\n",
       " '__spec__',\n",
       " '_re',\n",
       " '_sentinel_dict',\n",
       " '_string',\n",
       " 'ascii_letters',\n",
       " 'ascii_lowercase',\n",
       " 'ascii_uppercase',\n",
       " 'capwords',\n",
       " 'digits',\n",
       " 'hexdigits',\n",
       " 'octdigits',\n",
       " 'printable',\n",
       " 'punctuation',\n",
       " 'whitespace']"
      ]
     },
     "execution_count": 14,
     "metadata": {},
     "output_type": "execute_result"
    }
   ],
   "source": [
    "#contents of string module\n",
    "import string \n",
    "dir(string)"
   ]
  },
  {
   "cell_type": "code",
   "execution_count": 15,
   "id": "8bfffbd6-51b5-40a1-b83e-86c2c52ff374",
   "metadata": {},
   "outputs": [
    {
     "name": "stdout",
     "output_type": "stream",
     "text": [
      "['__add__', '__class__', '__contains__', '__delattr__', '__dir__', '__doc__', '__eq__', '__format__', '__ge__', '__getattribute__', '__getitem__', '__getnewargs__', '__getstate__', '__gt__', '__hash__', '__init__', '__init_subclass__', '__iter__', '__le__', '__len__', '__lt__', '__mod__', '__mul__', '__ne__', '__new__', '__reduce__', '__reduce_ex__', '__repr__', '__rmod__', '__rmul__', '__setattr__', '__sizeof__', '__str__', '__subclasshook__', 'capitalize', 'casefold', 'center', 'count', 'encode', 'endswith', 'expandtabs', 'find', 'format', 'format_map', 'index', 'isalnum', 'isalpha', 'isascii', 'isdecimal', 'isdigit', 'isidentifier', 'islower', 'isnumeric', 'isprintable', 'isspace', 'istitle', 'isupper', 'join', 'ljust', 'lower', 'lstrip', 'maketrans', 'partition', 'removeprefix', 'removesuffix', 'replace', 'rfind', 'rindex', 'rjust', 'rpartition', 'rsplit', 'rstrip', 'split', 'splitlines', 'startswith', 'strip', 'swapcase', 'title', 'translate', 'upper', 'zfill']\n"
     ]
    }
   ],
   "source": [
    "str=\"hello\" \n",
    "print(dir(str))"
   ]
  },
  {
   "cell_type": "code",
   "execution_count": 16,
   "id": "845e2397-0514-4cdf-934d-e97bf491c9f6",
   "metadata": {},
   "outputs": [
    {
     "data": {
      "text/plain": [
       "'A branch is an instruction in a computer program that can cause a computer to begin executing a different instruction'"
      ]
     },
     "execution_count": 16,
     "metadata": {},
     "output_type": "execute_result"
    }
   ],
   "source": [
    "#Capitalize()->This method provides us a copy of the string with the first letter capitalized and the rest lowercase as the output.\n",
    "s=\"a branch is an instruction in a computer program that can cause a computer to begin executing a different instruction\" \n",
    "s.capitalize()"
   ]
  },
  {
   "cell_type": "code",
   "execution_count": 17,
   "id": "69c1e6a7-9d1f-460a-a43f-6636e08f1256",
   "metadata": {},
   "outputs": [
    {
     "data": {
      "text/plain": [
       "'a branch is an instruction in a computer program that can cause a computer to begin executing a different instruction'"
      ]
     },
     "execution_count": 17,
     "metadata": {},
     "output_type": "execute_result"
    }
   ],
   "source": [
    "#title()->The title() method returns a copy of the string in which the starting characters of all the words are capitalized.\n",
    "s=\"A branch is an instruction in a computer program that can cause a computer to begin executing a different instruction\" \n",
    "s.lower()"
   ]
  },
  {
   "cell_type": "code",
   "execution_count": 18,
   "id": "24916456-369a-44e2-b641-152935ce753b",
   "metadata": {},
   "outputs": [
    {
     "data": {
      "text/plain": [
       "'a branch is an instruction in a computer program that can cause a computer to begin executing a different instruction'"
      ]
     },
     "execution_count": 18,
     "metadata": {},
     "output_type": "execute_result"
    }
   ],
   "source": [
    "#lower()->The lower() method returns a copy of the string if all case-based characters have been lowercased.\n",
    "s=\"A branch is an instruction in a computer program that can cause a computer to begin executing a different instruction\" \n",
    "s.lower()"
   ]
  },
  {
   "cell_type": "code",
   "execution_count": 19,
   "id": "08469f46-aeae-4a2d-87e1-6b2808c751d7",
   "metadata": {},
   "outputs": [
    {
     "data": {
      "text/plain": [
       "'A BRANCH IS AN INSTRUCTION IN A COMPUTER PROGRAM THAT CAN CAUSE A COMPUTER TO BEGIN EXECUTING A DIFFERENT INSTRUCTION'"
      ]
     },
     "execution_count": 19,
     "metadata": {},
     "output_type": "execute_result"
    }
   ],
   "source": [
    "#upper()->The upper() method returns a copy of the string in which all case-based characters have been uppercased.\n",
    "s=\"A branch is an instruction in a computer program that can cause a computer to begin executing a different instruction\" \n",
    "s.upper()"
   ]
  },
  {
   "cell_type": "code",
   "execution_count": 20,
   "id": "8738591b-928d-4e37-8e23-319d406728fc",
   "metadata": {},
   "outputs": [
    {
     "data": {
      "text/plain": [
       "'a BRANCH IS AN INSTRUCTION IN A COMPUTER PROGRAM THAT CAN CAUSE A COMPUTER TO BEGIN EXECUTING A DIFFERENT INSTRUCTION'"
      ]
     },
     "execution_count": 20,
     "metadata": {},
     "output_type": "execute_result"
    }
   ],
   "source": [
    "#swqapcase()->Swapping the case of the characters in a string is accomplished by the swapcase() method upper-><-lower\n",
    "s=\"A branch is an instruction in a computer program that can cause a computer to begin executing a different instruction\" \n",
    "s.swapcase()"
   ]
  },
  {
   "cell_type": "code",
   "execution_count": 21,
   "id": "eec93072-c7b1-43ba-923c-f79c28f42944",
   "metadata": {},
   "outputs": [
    {
     "name": "stdout",
     "output_type": "stream",
     "text": [
      "9\n",
      "3\n"
     ]
    }
   ],
   "source": [
    "#count()->The count() method gives the number of occurrences of the substring sub within the range [start, end] as the output.\n",
    "#Arguments start and end are optional, and they are interpreted the same as in slice notation\n",
    "s=\"A branch is an instruction in a computer program that can cause a computer to begin executing a different instruction\" \n",
    "print(s.count(\"i\"))\n",
    "\n",
    "s=\"A branch is an instruction in a computer program that can cause a computer to begin executing a different instruction\" \n",
    "print(s.count(\"i\",15,50))"
   ]
  },
  {
   "cell_type": "code",
   "execution_count": 22,
   "id": "b2770e12-bbc6-4e97-a5d0-75785f06b1eb",
   "metadata": {},
   "outputs": [
    {
     "name": "stdout",
     "output_type": "stream",
     "text": [
      "15\n",
      "27\n",
      "-1\n"
     ]
    }
   ],
   "source": [
    "#Find()->The find() method determines whether the given string str occurs in the string or in a substring of the string if the starting index beg and \n",
    "# ending index end are given.\n",
    "s=\"A branch is an instruction in a computer program that can cause a computer to begin executing a different instruction\" \n",
    "print(s.find(\"in\"))\n",
    "\n",
    "s=\"A branch is an instruction in a computer program that can cause a computer to begin executing a different instruction\" \n",
    "print(s.find(\"in\",16,len(s)))\n",
    "\n",
    "s=\"A branch is an instruction in a computer program that can cause a computer to begin executing a different instruction\" \n",
    "print(s.find(\"in\",110,len(s)))"
   ]
  },
  {
   "cell_type": "code",
   "execution_count": 23,
   "id": "b385f4c2-805b-4b50-ac30-19b3dddf63f1",
   "metadata": {},
   "outputs": [
    {
     "name": "stdout",
     "output_type": "stream",
     "text": [
      "106\n",
      "90\n",
      "-1\n"
     ]
    }
   ],
   "source": [
    "#rfiind()->The rfind() method returns the last index in which the str substring is found or -1 if no such index exists; optionally,\n",
    "#the search is restricted to String\n",
    "s=\"A branch is an instruction in a computer program that can cause a computer to begin executing a different instruction\" \n",
    "print(s.rfind(\"in\"))\n",
    "\n",
    "s=\"A branch is an instruction in a computer program that can cause a computer to begin executing a different instruction\" \n",
    "print(s.rfind(\"in\",5,100))\n",
    "\n",
    "s=\"A branch is an instruction in a computer program that can cause a computer to begin executing a different instruction\" \n",
    "print(s.rfind(\"in\",0,7))"
   ]
  },
  {
   "cell_type": "code",
   "execution_count": 24,
   "id": "d04db9e6-77dc-4dc5-aab3-6ee8d74f577d",
   "metadata": {},
   "outputs": [
    {
     "name": "stdout",
     "output_type": "stream",
     "text": [
      "15\n",
      "27\n"
     ]
    }
   ],
   "source": [
    "#index()->The index() method determines whether the string str occurs in string or in a substring of the string, \n",
    "#given the starting index beg and ending index end. This method is similar to but it raises an exception if sub cannot be found.\n",
    "s=\"A branch is an instruction in a computer program that can cause a computer to begin executing a different instruction\" \n",
    "print(s.index(\"in\"))\n",
    "\n",
    "s=\"A branch is an instruction in a computer program that can cause a computer to begin executing a different instruction\" \n",
    "print(s.index(\"in\",16,len(s)))"
   ]
  },
  {
   "cell_type": "code",
   "execution_count": 25,
   "id": "429f1acf-99db-4a7c-a0d5-8811c7f6bfd6",
   "metadata": {},
   "outputs": [
    {
     "name": "stdout",
     "output_type": "stream",
     "text": [
      "106\n",
      "90\n"
     ]
    }
   ],
   "source": [
    "#rindex()->When rindex() is called, it returns the last index where the str substring has been found or raises an exception if no index exists; \n",
    "#optionally the search is restricted to\n",
    "s=\"A branch is an instruction in a computer program that can cause a computer to begin executing a different instruction\" \n",
    "print(s.rindex(\"in\"))\n",
    "\n",
    "s=\"A branch is an instruction in a computer program that can cause a computer to begin executing a different instruction\" \n",
    "print(s.rindex(\"in\",5,100))"
   ]
  },
  {
   "cell_type": "code",
   "execution_count": 26,
   "id": "7716d266-0f2d-47b4-ba37-e484d280b0c4",
   "metadata": {},
   "outputs": [
    {
     "name": "stdout",
     "output_type": "stream",
     "text": [
      "True\n",
      "False\n",
      "False\n",
      "True\n"
     ]
    }
   ],
   "source": [
    "#startwidth()-->\n",
    "print('my name is rohit'.startswith('my'))\n",
    "print('my name is rohit'.startswith('1my'))\n",
    "print('my name is rohit'.startswith('myn'))\n",
    "print('my name is rohit'.startswith('my n'))"
   ]
  },
  {
   "cell_type": "code",
   "execution_count": 27,
   "id": "cc1124c8-938d-4d38-9694-8c8e3cc4ec86",
   "metadata": {},
   "outputs": [
    {
     "name": "stdout",
     "output_type": "stream",
     "text": [
      "True\n",
      "False\n"
     ]
    }
   ],
   "source": [
    "#endwidth()-->\n",
    "print('my name is rohit'.endswith('it'))\n",
    "print('my name is rohit'.endswith('ro'))\n"
   ]
  },
  {
   "cell_type": "code",
   "execution_count": 28,
   "id": "4ca0363e-5327-4534-972c-67f55b0b5193",
   "metadata": {},
   "outputs": [
    {
     "name": "stdout",
     "output_type": "stream",
     "text": [
      "True\n",
      "True\n",
      "True\n",
      "False\n"
     ]
    }
   ],
   "source": [
    "#isalnum()-->chack alphabetical number\n",
    "print(\"rohit\".isalnum())\n",
    "print(\"12345698\".isalnum())\n",
    "print(\"rohit123\".isalnum())\n",
    "print(\"rohit not 123\".isalnum())\n"
   ]
  },
  {
   "cell_type": "code",
   "execution_count": 29,
   "id": "01df4c17-00ef-48bc-9925-7fef6f6cd0e7",
   "metadata": {},
   "outputs": [
    {
     "name": "stdout",
     "output_type": "stream",
     "text": [
      "True\n",
      "False\n",
      "False\n",
      "False\n"
     ]
    }
   ],
   "source": [
    "#isalpha(_-->alphabetical charcters\n",
    "print(\"rohit\".isalpha())\n",
    "print(\"12345698\".isalpha())\n",
    "print(\"rohit123\".isalpha())\n",
    "print(\"rohit not 123\".isalpha())\n"
   ]
  },
  {
   "cell_type": "code",
   "execution_count": 30,
   "id": "0d05bfd7-de80-4ef5-952b-5ba98d6385ea",
   "metadata": {},
   "outputs": [
    {
     "name": "stdout",
     "output_type": "stream",
     "text": [
      "True\n",
      "False\n",
      "False\n"
     ]
    }
   ],
   "source": [
    "#islower()-->chack lower cas or not?\n",
    "print(\"rohit\".islower())\n",
    "print(\"ROHIT\".islower())\n",
    "print(\"Rohit123\".islower())\n"
   ]
  },
  {
   "cell_type": "code",
   "execution_count": 31,
   "id": "904a9cca-c966-46d6-a267-37d384cd9569",
   "metadata": {},
   "outputs": [
    {
     "name": "stdout",
     "output_type": "stream",
     "text": [
      "True\n",
      "False\n",
      "True\n",
      "False\n"
     ]
    }
   ],
   "source": [
    "#isnumeric() or isdigit()\n",
    "print(\"123456\".isnumeric())\n",
    "print(\"rohit123\".isnumeric())\n",
    "print(\"123456\".isdigit())\n",
    "print(\"rohit123\".isdigit())"
   ]
  },
  {
   "cell_type": "code",
   "execution_count": 32,
   "id": "44d20371-3f3d-414d-b578-a89907686736",
   "metadata": {},
   "outputs": [
    {
     "name": "stdout",
     "output_type": "stream",
     "text": [
      "True\n",
      "False\n",
      "False\n"
     ]
    }
   ],
   "source": [
    "#isspace()\n",
    "print(\" \".isspace())\n",
    "print(\" rohit \".isspace())\n",
    "print(\" 1\".isspace())\n"
   ]
  },
  {
   "cell_type": "code",
   "execution_count": 33,
   "id": "f62978ac-34b3-485f-b2b7-677f53d08a83",
   "metadata": {},
   "outputs": [
    {
     "name": "stdout",
     "output_type": "stream",
     "text": [
      "True\n",
      "False\n"
     ]
    }
   ],
   "source": [
    "#istitle() word first char is capital\n",
    "print(\"Jay Ganesh\".istitle())\n",
    "print(\"jay ganesh\".istitle())"
   ]
  },
  {
   "cell_type": "code",
   "execution_count": 34,
   "id": "050f0200-d1ef-43c5-98b8-3504526da651",
   "metadata": {},
   "outputs": [
    {
     "name": "stdout",
     "output_type": "stream",
     "text": [
      "True\n",
      "False\n"
     ]
    }
   ],
   "source": [
    "#isupper() in upper or not?\n",
    "print(\"ROHIT\".isupper())\n",
    "print(\"rohit\".isupper())"
   ]
  },
  {
   "cell_type": "code",
   "execution_count": 35,
   "id": "5a70021e-94f8-4d40-9cc7-fac72fd1ff9a",
   "metadata": {},
   "outputs": [
    {
     "name": "stdout",
     "output_type": "stream",
     "text": [
      "False\n",
      "False\n",
      "True\n",
      "True\n"
     ]
    }
   ],
   "source": [
    "#isidentifier() check string not start with number\n",
    "print(\"1nb\".isidentifier())\n",
    "print(\"1rohit1\".isidentifier())\n",
    "print(\"True\".isidentifier())\n",
    "print(\"sum\".isidentifier())"
   ]
  },
  {
   "cell_type": "code",
   "execution_count": 36,
   "id": "d5d89222-d44c-4c0f-8554-4d5563214e4c",
   "metadata": {},
   "outputs": [
    {
     "name": "stdout",
     "output_type": "stream",
     "text": [
      "HI MY NAME IS ROHIT\n",
      "YROHITAROHITDROHITAROHITV\n",
      "YRohitaRohitdRohitaRohitv\n",
      "1<2<3\n"
     ]
    }
   ],
   "source": [
    "#join()\n",
    "print(\" \".join(['HI', 'MY', 'NAME', 'IS', 'ROHIT']))\n",
    "print(\"ROHIT\".join(\"YADAV\"))\n",
    "\n",
    "str1=\"Rohit\"\n",
    "str2=\"Yadav\"\n",
    "print(str1.join(str2))\n",
    "\n",
    "print(\"<\".join(\"123\"))"
   ]
  },
  {
   "cell_type": "code",
   "execution_count": 37,
   "id": "04933044-80bb-4d51-9d6f-cd85003997a7",
   "metadata": {},
   "outputs": [
    {
     "name": "stdout",
     "output_type": "stream",
     "text": [
      "['HI!!', 'MY', 'NAME', 'IS', 'ROHIT', 'YADAV', 'I', 'AM', 'DOING', 'ENGG.', 'IN', 'LJ']\n",
      "['HI!! MY NAME IS ROHIT YADAV I AM DO', 'G ENGG. ', ' LJ']\n"
     ]
    }
   ],
   "source": [
    "#split()-> juda padoo!!\n",
    "s=\"HI!! MY NAME IS ROHIT YADAV I AM DOING ENGG. IN LJ\" \n",
    "print(s.split())\n",
    "s=\"HI!! MY NAME IS ROHIT YADAV I AM DOING ENGG. IN LJ\" \n",
    "print(s.split(\"IN\"))"
   ]
  },
  {
   "cell_type": "code",
   "execution_count": 38,
   "id": "1ed5fc9e-dcf6-4af8-833d-640df0279c8f",
   "metadata": {},
   "outputs": [
    {
     "name": "stdout",
     "output_type": "stream",
     "text": [
      "HI!! MY NAME IS JAY YADAV I AM DOING ENGG. IN LJ\n"
     ]
    }
   ],
   "source": [
    "#replace()-> badali nakho!!\n",
    "s=\"HI!! MY NAME IS ROHIT YADAV I AM DOING ENGG. IN LJ\" \n",
    "print(s.replace(\"ROHIT\",\"JAY\"))"
   ]
  },
  {
   "cell_type": "code",
   "execution_count": 39,
   "id": "fec39b4d-ac97-417f-b65f-6e7e4a2c334d",
   "metadata": {},
   "outputs": [
    {
     "name": "stdout",
     "output_type": "stream",
     "text": [
      "rohit\n",
      "rohit\n",
      "rohit\n",
      "rohit\n"
     ]
    }
   ],
   "source": [
    "#istrip() and rstrip()->remove charchater\n",
    "print(\"arohit\".lstrip(\"a\"))\n",
    "print(\"rohita\".rstrip(\"a\"))\n",
    "print(\" rohit\".lstrip())\n",
    "print(\"ssrohitss\".strip(\"ss\"))"
   ]
  },
  {
   "cell_type": "code",
   "execution_count": 40,
   "id": "4dc86c61-78f6-4c1d-8914-f534587708f6",
   "metadata": {},
   "outputs": [
    {
     "name": "stdout",
     "output_type": "stream",
     "text": [
      "th3s 3s str3ng tr1nsl1t2 f5nct34n…!!\n"
     ]
    }
   ],
   "source": [
    "#maketrans() convert one to onther\n",
    "in_=\"aeiou\"\n",
    "out_ = \"12345\"\n",
    "my = \"this is string translate function…!!\" \n",
    "final =my.maketrans(in_, out_) \n",
    "print (my.translate(final)) #convert a=1,e=2..."
   ]
  },
  {
   "cell_type": "code",
   "execution_count": 41,
   "id": "6171a03a-2606-4db4-ab7e-ac6bb3aeffbb",
   "metadata": {},
   "outputs": [
    {
     "name": "stdout",
     "output_type": "stream",
     "text": [
      "hi what is the weather like\n"
     ]
    }
   ],
   "source": [
    "#translate()\n",
    "import string\n",
    "a_string = '!hi. wh?at is the weat[h]er lik?e.'\n",
    "new_string = a_string.translate(str.maketrans('','',string.punctuation)) \n",
    "print(new_string)"
   ]
  },
  {
   "cell_type": "code",
   "execution_count": null,
   "id": "0c3e092e-32a6-4488-917f-2fd48000cb07",
   "metadata": {},
   "outputs": [],
   "source": []
  }
 ],
 "metadata": {
  "kernelspec": {
   "display_name": "Python 3 (ipykernel)",
   "language": "python",
   "name": "python3"
  },
  "language_info": {
   "codemirror_mode": {
    "name": "ipython",
    "version": 3
   },
   "file_extension": ".py",
   "mimetype": "text/x-python",
   "name": "python",
   "nbconvert_exporter": "python",
   "pygments_lexer": "ipython3",
   "version": "3.11.5"
  }
 },
 "nbformat": 4,
 "nbformat_minor": 5
}
