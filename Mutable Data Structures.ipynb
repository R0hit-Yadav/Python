{
 "cells": [
  {
   "cell_type": "code",
   "execution_count": 1,
   "id": "9241cb61-1d6b-4b8a-bf41-0f068fc797db",
   "metadata": {},
   "outputs": [],
   "source": [
    "#ऊँ गणेशाय नमः🙏\n",
    "# Mutable DS like sets,list,Dict..\n",
    "#First let's Talk about sets:\n",
    "# A set is an unordered collection of items.\n",
    "# Sets can also be used to perform mathematical set operations like union,intersection,symmetric difference,etc.\n",
    "# Characterstics:\n",
    "# Unordered\n",
    "# Mutable\n",
    "# No Duplicates\n",
    "# Can’t  contain  mutable  data  types"
   ]
  },
  {
   "cell_type": "code",
   "execution_count": 2,
   "id": "03cb5134-68c2-48f7-a758-695ffabc09c0",
   "metadata": {},
   "outputs": [
    {
     "name": "stdout",
     "output_type": "stream",
     "text": [
      "set()\n",
      "<class 'set'>\n",
      "{}\n",
      "<class 'dict'>\n",
      "{1, 2, 3}\n",
      "{1, 'hello', 4.5, (1, 2, 3)}\n",
      "{1, 2, 3}\n",
      "{1, 2, 3}\n"
     ]
    },
    {
     "ename": "TypeError",
     "evalue": "unhashable type: 'list'",
     "output_type": "error",
     "traceback": [
      "\u001b[1;31m---------------------------------------------------------------------------\u001b[0m",
      "\u001b[1;31mTypeError\u001b[0m                                 Traceback (most recent call last)",
      "Cell \u001b[1;32mIn[2], line 30\u001b[0m\n\u001b[0;32m     27\u001b[0m \u001b[38;5;28mprint\u001b[39m(s5)\n\u001b[0;32m     29\u001b[0m \u001b[38;5;66;03m# set can't have mutable items\u001b[39;00m\n\u001b[1;32m---> 30\u001b[0m s6 \u001b[38;5;241m=\u001b[39m {\u001b[38;5;241m1\u001b[39m,\u001b[38;5;241m2\u001b[39m,[\u001b[38;5;241m3\u001b[39m,\u001b[38;5;241m4\u001b[39m]}\n\u001b[0;32m     31\u001b[0m \u001b[38;5;28mprint\u001b[39m(s6)\n",
      "\u001b[1;31mTypeError\u001b[0m: unhashable type: 'list'"
     ]
    }
   ],
   "source": [
    "# empty\n",
    "s = set()\n",
    "print(s)\n",
    "print(type(s))\n",
    "\n",
    "s={}\n",
    "print(s)\n",
    "print(type(s))\n",
    "\n",
    "# 1D and 2D\n",
    "s1 = {1,2,3}\n",
    "print(s1)\n",
    "\n",
    "# s2 = {1,2,3,{4,5}}  unhashable type: 'set'\n",
    "# print(s2)\n",
    "\n",
    "# homo and hetro\n",
    "s3 = {1,'hello',4.5,(1,2,3)} \n",
    "print(s3)\n",
    "\n",
    "# using type conversion\n",
    "s4 = set([1,2,3])\n",
    "print(s4)\n",
    "\n",
    "# duplicates removed\n",
    "s5 = {1,1,2,2,3,3}\n",
    "print(s5)\n",
    "\n",
    "# set can't have mutable items\n",
    "s6 = {1,2,[3,4]}\n",
    "print(s6)"
   ]
  },
  {
   "cell_type": "code",
   "execution_count": 3,
   "id": "a121c9e9-b385-4d12-8ca0-082864c23c5a",
   "metadata": {},
   "outputs": [
    {
     "name": "stdout",
     "output_type": "stream",
     "text": [
      "True\n"
     ]
    }
   ],
   "source": [
    "print({1,2,3}=={3,1,2})"
   ]
  },
  {
   "cell_type": "code",
   "execution_count": 4,
   "id": "31b77052-87ad-47ff-ae90-353147cdfaef",
   "metadata": {},
   "outputs": [
    {
     "ename": "TypeError",
     "evalue": "'set' object is not subscriptable",
     "output_type": "error",
     "traceback": [
      "\u001b[1;31m---------------------------------------------------------------------------\u001b[0m",
      "\u001b[1;31mTypeError\u001b[0m                                 Traceback (most recent call last)",
      "Cell \u001b[1;32mIn[4], line 3\u001b[0m\n\u001b[0;32m      1\u001b[0m \u001b[38;5;66;03m#Accessing \u001b[39;00m\n\u001b[0;32m      2\u001b[0m s1 \u001b[38;5;241m=\u001b[39m {\u001b[38;5;241m1\u001b[39m,\u001b[38;5;241m2\u001b[39m,\u001b[38;5;241m3\u001b[39m,\u001b[38;5;241m4\u001b[39m} \n\u001b[1;32m----> 3\u001b[0m \u001b[43ms1\u001b[49m\u001b[43m[\u001b[49m\u001b[38;5;241;43m0\u001b[39;49m\u001b[43m]\u001b[49m \u001b[38;5;66;03m#not possible\u001b[39;00m\n\u001b[0;32m      5\u001b[0m s1 \u001b[38;5;241m=\u001b[39m {\u001b[38;5;241m1\u001b[39m,\u001b[38;5;241m2\u001b[39m,\u001b[38;5;241m3\u001b[39m,\u001b[38;5;241m4\u001b[39m} \n\u001b[0;32m      6\u001b[0m s1[\u001b[38;5;241m-\u001b[39m\u001b[38;5;241m1\u001b[39m]\n",
      "\u001b[1;31mTypeError\u001b[0m: 'set' object is not subscriptable"
     ]
    }
   ],
   "source": [
    "#Accessing \n",
    "s1 = {1,2,3,4} \n",
    "s1[0] #not possible\n",
    "\n",
    "s1 = {1,2,3,4} \n",
    "s1[-1]"
   ]
  },
  {
   "cell_type": "code",
   "execution_count": 5,
   "id": "6135169a-92a6-4c3e-b0b5-f432a63c3c44",
   "metadata": {},
   "outputs": [
    {
     "ename": "TypeError",
     "evalue": "'set' object does not support item assignment",
     "output_type": "error",
     "traceback": [
      "\u001b[1;31m---------------------------------------------------------------------------\u001b[0m",
      "\u001b[1;31mTypeError\u001b[0m                                 Traceback (most recent call last)",
      "Cell \u001b[1;32mIn[5], line 3\u001b[0m\n\u001b[0;32m      1\u001b[0m \u001b[38;5;66;03m#Editing\u001b[39;00m\n\u001b[0;32m      2\u001b[0m s1\u001b[38;5;241m=\u001b[39m {\u001b[38;5;241m1\u001b[39m,\u001b[38;5;241m2\u001b[39m,\u001b[38;5;241m3\u001b[39m,\u001b[38;5;241m4\u001b[39m} \n\u001b[1;32m----> 3\u001b[0m \u001b[43ms1\u001b[49m\u001b[43m[\u001b[49m\u001b[38;5;241;43m0\u001b[39;49m\u001b[43m]\u001b[49m \u001b[38;5;241m=\u001b[39m \u001b[38;5;241m100\u001b[39m \u001b[38;5;66;03m#editing also not possible\u001b[39;00m\n",
      "\u001b[1;31mTypeError\u001b[0m: 'set' object does not support item assignment"
     ]
    }
   ],
   "source": [
    "#Editing\n",
    "s1= {1,2,3,4} \n",
    "s1[0] = 100 #editing also not possible\n"
   ]
  },
  {
   "cell_type": "code",
   "execution_count": 6,
   "id": "a9ef1fb9-42d4-4da2-a783-28f1a4cbebaf",
   "metadata": {},
   "outputs": [
    {
     "name": "stdout",
     "output_type": "stream",
     "text": [
      "{1, 2, 3, 4, 5}\n",
      "{1, 2, 3, 4, 5, 6, 7}\n"
     ]
    }
   ],
   "source": [
    "#Adding \n",
    "s={1,2,3,4}\n",
    "s.add(5) \n",
    "print(s)\n",
    "\n",
    "s= {1,2,3,4}\n",
    "s.update([5,6,7]) \n",
    "print(s)\n"
   ]
  },
  {
   "cell_type": "code",
   "execution_count": 7,
   "id": "1f39cc8a-4a48-4f61-9371-54504f023c2e",
   "metadata": {},
   "outputs": [
    {
     "name": "stdout",
     "output_type": "stream",
     "text": [
      "{1, 2, 3, 4, 5}\n"
     ]
    },
    {
     "ename": "NameError",
     "evalue": "name 's' is not defined",
     "output_type": "error",
     "traceback": [
      "\u001b[1;31m---------------------------------------------------------------------------\u001b[0m",
      "\u001b[1;31mNameError\u001b[0m                                 Traceback (most recent call last)",
      "Cell \u001b[1;32mIn[7], line 6\u001b[0m\n\u001b[0;32m      4\u001b[0m \u001b[38;5;28mprint\u001b[39m(s)\n\u001b[0;32m      5\u001b[0m \u001b[38;5;28;01mdel\u001b[39;00m s\n\u001b[1;32m----> 6\u001b[0m \u001b[38;5;28mprint\u001b[39m(\u001b[43ms\u001b[49m) \u001b[38;5;66;03m#it is delete\u001b[39;00m\n",
      "\u001b[1;31mNameError\u001b[0m: name 's' is not defined"
     ]
    }
   ],
   "source": [
    "#Deleting del,discard,remove,pop,clear\n",
    "#del\n",
    "s = {1,2,3,4,5} \n",
    "print(s)\n",
    "del s\n",
    "print(s) #it is delete"
   ]
  },
  {
   "cell_type": "code",
   "execution_count": 8,
   "id": "b3868773-2f57-4891-b63b-40528b9c315e",
   "metadata": {},
   "outputs": [
    {
     "name": "stdout",
     "output_type": "stream",
     "text": [
      "Discard\n",
      "{1, 2, 3, 4, 5}\n",
      "{1, 2, 4, 5}\n",
      "{1, 2, 4, 5}\n",
      "remove\n",
      "{1, 2, 3, 4, 5}\n",
      "{1, 2, 3, 4}\n"
     ]
    },
    {
     "ename": "KeyError",
     "evalue": "50",
     "output_type": "error",
     "traceback": [
      "\u001b[1;31m---------------------------------------------------------------------------\u001b[0m",
      "\u001b[1;31mKeyError\u001b[0m                                  Traceback (most recent call last)",
      "Cell \u001b[1;32mIn[8], line 16\u001b[0m\n\u001b[0;32m     14\u001b[0m s\u001b[38;5;241m.\u001b[39mremove(\u001b[38;5;241m5\u001b[39m) \n\u001b[0;32m     15\u001b[0m \u001b[38;5;28mprint\u001b[39m(s)\n\u001b[1;32m---> 16\u001b[0m \u001b[43ms\u001b[49m\u001b[38;5;241;43m.\u001b[39;49m\u001b[43mremove\u001b[49m\u001b[43m(\u001b[49m\u001b[38;5;241;43m50\u001b[39;49m\u001b[43m)\u001b[49m \u001b[38;5;66;03m#it will give error\u001b[39;00m\n\u001b[0;32m     17\u001b[0m \u001b[38;5;28mprint\u001b[39m(s)\n",
      "\u001b[1;31mKeyError\u001b[0m: 50"
     ]
    }
   ],
   "source": [
    "#discard\n",
    "print('Discard')\n",
    "s = {1,2,3,4,5} \n",
    "print(s)\n",
    "s.discard(3) \n",
    "print(s)\n",
    "s.discard(50)\n",
    "print(s)\n",
    "\n",
    "#remove\n",
    "print('remove')\n",
    "s = {1,2,3,4,5} \n",
    "print(s)\n",
    "s.remove(5) \n",
    "print(s)\n",
    "s.remove(50) #it will give error\n",
    "print(s)\n"
   ]
  },
  {
   "cell_type": "code",
   "execution_count": 9,
   "id": "05222ee7-4824-4371-a416-dc461cf0620a",
   "metadata": {},
   "outputs": [
    {
     "name": "stdout",
     "output_type": "stream",
     "text": [
      "POP\n",
      "{2, 3, 4, 5, 7}\n",
      "{3, 4, 5, 7}\n"
     ]
    }
   ],
   "source": [
    "#Pop\n",
    "print('POP')\n",
    "s = {7,2,3,4,5} \n",
    "print(s)\n",
    "s.pop() #remove upper element\n",
    "print(s)"
   ]
  },
  {
   "cell_type": "code",
   "execution_count": 10,
   "id": "9f2edc24-3369-48eb-b9fb-8d33a9e9597f",
   "metadata": {},
   "outputs": [
    {
     "name": "stdout",
     "output_type": "stream",
     "text": [
      "{2, 3, 4, 5, 7}\n",
      "set()\n"
     ]
    }
   ],
   "source": [
    "#clear\n",
    "s = {7,2,3,4,5} \n",
    "print(s)\n",
    "s.clear()\n",
    "print(s)"
   ]
  },
  {
   "cell_type": "code",
   "execution_count": 11,
   "id": "0e4a3a80-5a2a-4eb4-9161-6132dbb9c526",
   "metadata": {},
   "outputs": [],
   "source": [
    "#set opreations\n",
    "# union(|)\n",
    "# intersection(&) \n",
    "# Difference(-) \n",
    "# Symmetric Difference(^) \n",
    "# Membership  \n",
    "# Test Iteration"
   ]
  },
  {
   "cell_type": "code",
   "execution_count": 12,
   "id": "cd2815e9-a73f-4aab-856c-a1068e117c9e",
   "metadata": {},
   "outputs": [
    {
     "name": "stdout",
     "output_type": "stream",
     "text": [
      "Union(|)=> {1, 2, 3, 4, 5, 6, 7, 8}\n",
      "Intersection(&)=> {4, 5}\n",
      "s1-s2 Difference(-)=> {1, 2, 3}\n",
      "s2-s1 Difference(-)=> {8, 6, 7}\n",
      "Symmetric Difference(^)=> {1, 2, 3, 6, 7, 8}\n",
      "False\n",
      "1\n",
      "2\n",
      "3\n",
      "4\n",
      "5\n"
     ]
    }
   ],
   "source": [
    "s1 = {1,2,3,4,5} \n",
    "s2 = {4,5,6,7,8}\n",
    "# union(|)\n",
    "print(\"Union(|)=>\",s1 | s2)\n",
    "# intersection(&)\n",
    "print(\"Intersection(&)=>\",s1 & s2)\n",
    "# Difference(-) \n",
    "print(\"s1-s2 Difference(-)=>\",s1 - s2) \n",
    "print(\"s2-s1 Difference(-)=>\",s2 - s1)\n",
    "# Symmetric Difference(^)\n",
    "print(\"Symmetric Difference(^)=>\",s1 ^ s2)\n",
    "# Membership  \n",
    "print(1 not in s1)\n",
    "# Test Iteration\n",
    "for i in s1: \n",
    "    print(i)"
   ]
  },
  {
   "cell_type": "code",
   "execution_count": 13,
   "id": "03d4a5f2-1a4b-4eaa-b5e7-c0fad1972ccc",
   "metadata": {},
   "outputs": [
    {
     "name": "stdout",
     "output_type": "stream",
     "text": [
      "10\n",
      "55\n",
      "1\n",
      "10\n",
      "[10, 9, 8, 7, 6, 5, 4, 3, 2, 1]\n"
     ]
    }
   ],
   "source": [
    "#Set functions like len,sum,min,max,sorted\n",
    "s = {1,2,3,4,5,6,7,8,9,10}\n",
    "print(len(s))\n",
    "print(sum(s))\n",
    "print(min(s))\n",
    "print(max(s))\n",
    "print(sorted(s,reverse=True))"
   ]
  },
  {
   "cell_type": "code",
   "execution_count": 14,
   "id": "9a2769b3-300f-41b9-ac5c-07ac0f6c42d6",
   "metadata": {},
   "outputs": [
    {
     "name": "stdout",
     "output_type": "stream",
     "text": [
      "{1, 2, 3, 4, 5, 6, 7, 8}\n",
      "{4, 5, 6, 7, 8}\n"
     ]
    }
   ],
   "source": [
    "#other functions\n",
    "s1 = {1,2,3,4,5}\n",
    "s2 = {4,5,6,7,8}\n",
    "s1.union(s2)\n",
    "s1.update(s2)\n",
    "print(s1)\n",
    "print(s2)"
   ]
  },
  {
   "cell_type": "code",
   "execution_count": 15,
   "id": "bcf3f1d9-83d9-4721-8f6c-14adf8a49518",
   "metadata": {},
   "outputs": [
    {
     "name": "stdout",
     "output_type": "stream",
     "text": [
      "{4, 5}\n",
      "{4, 5}\n",
      "{4, 5, 6, 7, 8}\n"
     ]
    }
   ],
   "source": [
    "s1 = {1,2,3,4,5}\n",
    "s2 = {4,5,6,7,8}\n",
    "print(s1.intersection(s2))\n",
    "s1.intersection_update(s2)\n",
    "print(s1)\n",
    "print(s2)"
   ]
  },
  {
   "cell_type": "code",
   "execution_count": 16,
   "id": "0735ceb2-6604-458f-a979-2f696cd3b0f2",
   "metadata": {},
   "outputs": [
    {
     "name": "stdout",
     "output_type": "stream",
     "text": [
      "{1, 2, 3}\n",
      "{1, 2, 3}\n",
      "{4, 5, 6, 7, 8}\n"
     ]
    }
   ],
   "source": [
    "s1 = {1,2,3,4,5}\n",
    "s2 = {4,5,6,7,8}\n",
    "print(s1.difference(s2))\n",
    "s1.difference_update(s2)\n",
    "print(s1)\n",
    "print(s2)"
   ]
  },
  {
   "cell_type": "code",
   "execution_count": 17,
   "id": "49e40a60-26db-4a4a-95ad-ab7c08a26b83",
   "metadata": {},
   "outputs": [
    {
     "name": "stdout",
     "output_type": "stream",
     "text": [
      "{1, 2, 3, 6, 7, 8}\n",
      "{4, 5, 6, 7, 8}\n"
     ]
    }
   ],
   "source": [
    "s1 = {1,2,3,4,5}\n",
    "s2 = {4,5,6,7,8}\n",
    "s1.symmetric_difference(s2)\n",
    "s1.symmetric_difference_update(s2) \n",
    "print(s1)\n",
    "print(s2)"
   ]
  },
  {
   "cell_type": "code",
   "execution_count": 18,
   "id": "91a695d1-d79e-4943-bdc1-aed08399f7f0",
   "metadata": {},
   "outputs": [
    {
     "data": {
      "text/plain": [
       "True"
      ]
     },
     "execution_count": 18,
     "metadata": {},
     "output_type": "execute_result"
    }
   ],
   "source": [
    "s1 = {1,2,3,4}\n",
    "s2 = {7,8,5,6}\n",
    "s1.isdisjoint(s2)"
   ]
  },
  {
   "cell_type": "code",
   "execution_count": 19,
   "id": "52e8de81-a740-4a5a-a26b-9ede21a4c3ec",
   "metadata": {},
   "outputs": [
    {
     "data": {
      "text/plain": [
       "False"
      ]
     },
     "execution_count": 19,
     "metadata": {},
     "output_type": "execute_result"
    }
   ],
   "source": [
    "s1 = {1,2,3,4}\n",
    "s2 = {1,8,5,6}\n",
    "s1.isdisjoint(s2) #1 is same"
   ]
  },
  {
   "cell_type": "code",
   "execution_count": 20,
   "id": "d54d41db-4008-4c0c-8240-ee689f332c43",
   "metadata": {},
   "outputs": [
    {
     "name": "stdout",
     "output_type": "stream",
     "text": [
      "True\n",
      "True\n"
     ]
    }
   ],
   "source": [
    "s1 = {1,2,3,4,5}\n",
    "s2 = {3,4,5}\n",
    "print(s1.issuperset(s2))\n",
    "print(s2.issubset(s1))"
   ]
  },
  {
   "cell_type": "code",
   "execution_count": 21,
   "id": "c331a40b-256e-45ee-a339-1d39a54e85d7",
   "metadata": {},
   "outputs": [
    {
     "name": "stdout",
     "output_type": "stream",
     "text": [
      "{1, 2, 3}\n",
      "{1, 2, 3}\n"
     ]
    }
   ],
   "source": [
    "s1 = {1,2,3} \n",
    "s2 = s1.copy()\n",
    "print(s1) \n",
    "print(s2)"
   ]
  },
  {
   "cell_type": "code",
   "execution_count": 22,
   "id": "f9a383bb-7cde-4998-bd53-1edfdaea163b",
   "metadata": {},
   "outputs": [
    {
     "name": "stdout",
     "output_type": "stream",
     "text": [
      "frozenset({1, 2, 3, 4, 5})\n",
      "frozenset({frozenset({3, 4}), 1, 2})\n"
     ]
    }
   ],
   "source": [
    "#Frozenset\n",
    "fs1 = frozenset([1,2,3])\n",
    "fs2 = frozenset([3,4,5])\n",
    "print(fs1 | fs2)\n",
    "\n",
    "fs = frozenset([1,2,frozenset([3,4])])\n",
    "print(fs)"
   ]
  },
  {
   "cell_type": "code",
   "execution_count": 23,
   "id": "a07ae1b5-721e-4c20-8906-bab8e63a0171",
   "metadata": {},
   "outputs": [
    {
     "data": {
      "text/plain": [
       "{36, 49, 64, 81, 100}"
      ]
     },
     "execution_count": 23,
     "metadata": {},
     "output_type": "execute_result"
    }
   ],
   "source": [
    "{i**2 for i in range(1,11) if i>5}"
   ]
  },
  {
   "cell_type": "code",
   "execution_count": 24,
   "id": "faa5cd4d-5b53-44ff-a9bd-abf6be2db754",
   "metadata": {},
   "outputs": [
    {
     "name": "stdout",
     "output_type": "stream",
     "text": [
      "1997543802112\n",
      "140708211102504\n",
      "140708211102536\n",
      "140708211102568\n",
      "140708211102504\n",
      "140708211102536\n",
      "140708211102568\n"
     ]
    }
   ],
   "source": [
    "#=====================================>lists<=====================================================\n",
    "l = [1,2,3]\n",
    "print(id(l)) \n",
    "print(id(l[0])) \n",
    "print(id(l[1])) \n",
    "print(id(l[2])) \n",
    "print(id(1)) \n",
    "print(id(2)) \n",
    "print(id(3))"
   ]
  },
  {
   "cell_type": "code",
   "execution_count": 25,
   "id": "a5ced040-ec92-4a93-a15f-a440d004290f",
   "metadata": {},
   "outputs": [],
   "source": [
    "#Characterstics of a list\n",
    "# Ordered\n",
    "# Changeble/Mutable\n",
    "# Hetrogeneous\n",
    "# Can have  duplicates\n",
    "# are dynamic\n",
    "# can be nested\n",
    "# items can  be accessed\n",
    "# can contain any kind of objects in python"
   ]
  },
  {
   "cell_type": "code",
   "execution_count": 26,
   "id": "ef0af4ae-6362-4923-8f15-6b9ae0776e0f",
   "metadata": {},
   "outputs": [
    {
     "name": "stdout",
     "output_type": "stream",
     "text": [
      "False\n",
      "[5, 2, 3]\n",
      "[1, 1.5, 'rohit', (9, 0), {0, 1}, {'a': 1, 'b': 3}]\n",
      "[1, 1, 1, 2, 2, 3, 3, 4, 4, 5, 5, 6]\n",
      "[1, 2, 3, 5, (1, 2)]\n",
      "[1, 2, 3, [1, 2]]\n",
      "1\n",
      "[1, 2]\n"
     ]
    }
   ],
   "source": [
    "#ordered\n",
    "l=[1,2,3] \n",
    "l1=[3,2,1] \n",
    "print(l==l1)\n",
    "\n",
    "#changable/mutable\n",
    "l=[1,2,3]\n",
    "l[0]=5\n",
    "print(l)\n",
    "\n",
    "#Hetrogeneous\n",
    "l=[1,1.5,\"rohit\",(9,0),{1,0},{\"a\":1,\"b\":3}] \n",
    "print(l)\n",
    "\n",
    "#duplicate\n",
    "l=[1,1,1,2,2,3,3,4,4,5,5,6] #allowed\n",
    "print(l)\n",
    "\n",
    "#dynamic\n",
    "l=[1,2,3]\n",
    "l.append(5)\n",
    "l.append((1,2))  #add in last\n",
    "print(l)\n",
    "\n",
    "#can be nested\n",
    "l=[1,2,3,[1,2]]\n",
    "print(l)\n",
    "\n",
    "#items can be accessed \n",
    "l=[1,2,3,[1,2]] \n",
    "print(l[0])\n",
    "print(l[3])"
   ]
  },
  {
   "cell_type": "code",
   "execution_count": 27,
   "id": "45d6a721-82ec-425f-aedb-a26c6e76c8ea",
   "metadata": {},
   "outputs": [
    {
     "name": "stdout",
     "output_type": "stream",
     "text": [
      "[]\n"
     ]
    }
   ],
   "source": [
    "#Creating\n",
    "l=[] \n",
    "print(l)"
   ]
  },
  {
   "cell_type": "code",
   "execution_count": 28,
   "id": "6a453537-8567-4049-a378-8f1b7c11042c",
   "metadata": {},
   "outputs": [
    {
     "name": "stdout",
     "output_type": "stream",
     "text": [
      "[1, 2, 3, 4]\n",
      "[1, 2, 3]\n"
     ]
    }
   ],
   "source": [
    "l1=list((1,2,3,4))\n",
    "print(l1)\n",
    "\n",
    "l1=list({1,2,3})\n",
    "print(l1)"
   ]
  },
  {
   "cell_type": "code",
   "execution_count": 29,
   "id": "6a516e9a-4bf6-4dc4-b3b4-985c379668b8",
   "metadata": {},
   "outputs": [
    {
     "name": "stdout",
     "output_type": "stream",
     "text": [
      "[1, 2, 3] ['a', 'b', 'c'] [(1, 2), (3, 4), (5, 6)] [1, 'a', (1, 2), {1, 2}]\n"
     ]
    }
   ],
   "source": [
    "#1D\n",
    "l=[1,2,3]\n",
    "l1=[\"a\",\"b\",\"c\"]\n",
    "l2=[(1,2),(3,4),(5,6)]\n",
    "l3=[1,'a',(1,2),{1,2}]\n",
    "print(l,l1,l2,l3)"
   ]
  },
  {
   "cell_type": "code",
   "execution_count": 30,
   "id": "8273a1c0-0149-4b96-9b6e-6bc843e8635a",
   "metadata": {},
   "outputs": [
    {
     "name": "stdout",
     "output_type": "stream",
     "text": [
      "[[1, 2], [3, 4]]\n"
     ]
    }
   ],
   "source": [
    "#2D\n",
    "l=[[1,2],[3,4]] \n",
    "print(l)"
   ]
  },
  {
   "cell_type": "code",
   "execution_count": 31,
   "id": "0ec193a4-c57b-437d-a576-2ce9f7e292c3",
   "metadata": {},
   "outputs": [
    {
     "name": "stdout",
     "output_type": "stream",
     "text": [
      "[[[1, 2], [3, 4]], [[5, 6], [7, 8]]]\n"
     ]
    }
   ],
   "source": [
    "#3D\n",
    "l=[[[1,2],[3,4]],[[5,6],[7,8]]] \n",
    "print(l)"
   ]
  },
  {
   "cell_type": "code",
   "execution_count": 32,
   "id": "fbbead32-04ee-486d-bf5b-e38c7f8c9845",
   "metadata": {},
   "outputs": [
    {
     "name": "stdout",
     "output_type": "stream",
     "text": [
      "['h', 'e', 'l', 'l', 'o']\n"
     ]
    }
   ],
   "source": [
    "l=list(\"hello\")\n",
    "print(l)"
   ]
  },
  {
   "cell_type": "code",
   "execution_count": 33,
   "id": "a5cfe1c3-96dc-4733-b653-db883c22fc0a",
   "metadata": {},
   "outputs": [
    {
     "name": "stdout",
     "output_type": "stream",
     "text": [
      "1\n",
      "4\n"
     ]
    },
    {
     "ename": "IndexError",
     "evalue": "list index out of range",
     "output_type": "error",
     "traceback": [
      "\u001b[1;31m---------------------------------------------------------------------------\u001b[0m",
      "\u001b[1;31mIndexError\u001b[0m                                Traceback (most recent call last)",
      "Cell \u001b[1;32mIn[33], line 5\u001b[0m\n\u001b[0;32m      3\u001b[0m \u001b[38;5;28mprint\u001b[39m(l[\u001b[38;5;241m0\u001b[39m]) \n\u001b[0;32m      4\u001b[0m \u001b[38;5;28mprint\u001b[39m(l[\u001b[38;5;241m-\u001b[39m\u001b[38;5;241m1\u001b[39m]) \u001b[38;5;66;03m#not possible\u001b[39;00m\n\u001b[1;32m----> 5\u001b[0m \u001b[38;5;28mprint\u001b[39m(\u001b[43ml\u001b[49m\u001b[43m[\u001b[49m\u001b[38;5;241;43m4\u001b[39;49m\u001b[43m]\u001b[49m)\n",
      "\u001b[1;31mIndexError\u001b[0m: list index out of range"
     ]
    }
   ],
   "source": [
    "#Accessing\n",
    "l=[1,2,3,4] \n",
    "print(l[0]) \n",
    "print(l[-1]) #not possible\n",
    "print(l[4])"
   ]
  },
  {
   "cell_type": "code",
   "execution_count": 34,
   "id": "366d311c-8052-4880-886b-caeed6712824",
   "metadata": {},
   "outputs": [
    {
     "name": "stdout",
     "output_type": "stream",
     "text": [
      "2\n",
      "1\n",
      "ab\n"
     ]
    }
   ],
   "source": [
    "l=[1,2,3,[1,2],\"abcd\"] \n",
    "print(l[3][-1]) \n",
    "print(l[3][0])\n",
    "print(l[4][:2])"
   ]
  },
  {
   "cell_type": "code",
   "execution_count": 35,
   "id": "a27c9ffd-fea0-4187-acc3-2986d8b35670",
   "metadata": {},
   "outputs": [
    {
     "name": "stdout",
     "output_type": "stream",
     "text": [
      "[1, 3]\n",
      "[2, 3]\n",
      "[4, 3, 2, 1]\n",
      "[4, 2]\n",
      "[2, 3, [1, 2]]\n",
      "[3, [1, 2], 'abcd']\n",
      "b\n",
      "1\n",
      "['abcd', [1, 2], 3, 2, 1]\n"
     ]
    }
   ],
   "source": [
    "#slicing\n",
    "l=[1,2,3,4]\n",
    "print(l[::2])\n",
    "print(l[1:3])\n",
    "print(l[::-1])\n",
    "print(l[-1:-4:-2])\n",
    "l=[1,2,3,[1,2],\"abcd\"] \n",
    "print(l[1:4])\n",
    "print(l[2:5]) \n",
    "print(l[2:5][2][1:2])\n",
    "print(l[-1:-3:-1][-1][-2])\n",
    "print(l[::-1])"
   ]
  },
  {
   "cell_type": "code",
   "execution_count": 36,
   "id": "8c2ea0d1-23ed-4e2d-b4e3-fcde61e8b0d1",
   "metadata": {},
   "outputs": [
    {
     "name": "stdout",
     "output_type": "stream",
     "text": [
      "[1, 2, 3, 4, 5, True]\n",
      "[1, 2, 3, 4, 5, True, [1, 2, 3]]\n",
      "[1, 2, 3, 4, 5, True, [1, 2, 3], 'ABC']\n",
      "[1, 2, 3, 4, 5, True, [1, 2, 3], 'ABC', (1, 2)]\n"
     ]
    },
    {
     "ename": "TypeError",
     "evalue": "list.append() takes exactly one argument (2 given)",
     "output_type": "error",
     "traceback": [
      "\u001b[1;31m---------------------------------------------------------------------------\u001b[0m",
      "\u001b[1;31mTypeError\u001b[0m                                 Traceback (most recent call last)",
      "Cell \u001b[1;32mIn[36], line 16\u001b[0m\n\u001b[0;32m     13\u001b[0m l\u001b[38;5;241m.\u001b[39mappend((\u001b[38;5;241m1\u001b[39m,\u001b[38;5;241m2\u001b[39m))\n\u001b[0;32m     14\u001b[0m \u001b[38;5;28mprint\u001b[39m(l)\n\u001b[1;32m---> 16\u001b[0m \u001b[43ml\u001b[49m\u001b[38;5;241;43m.\u001b[39;49m\u001b[43mappend\u001b[49m\u001b[43m(\u001b[49m\u001b[38;5;241;43m1\u001b[39;49m\u001b[43m,\u001b[49m\u001b[38;5;241;43m2\u001b[39;49m\u001b[43m)\u001b[49m\u001b[38;5;66;03m#you can use only one argument\u001b[39;00m\n",
      "\u001b[1;31mTypeError\u001b[0m: list.append() takes exactly one argument (2 given)"
     ]
    }
   ],
   "source": [
    "#Adding\n",
    "# append\n",
    "l= [1,2,3,4,5]\n",
    "l.append(True)\n",
    "print(l)\n",
    "\n",
    "l.append([1,2,3])\n",
    "print(l)\n",
    "\n",
    "l.append(\"ABC\")\n",
    "print(l)\n",
    "\n",
    "l.append((1,2))\n",
    "print(l)\n",
    "\n",
    "l.append(1,2)#you can use only one argument"
   ]
  },
  {
   "cell_type": "code",
   "execution_count": 37,
   "id": "1170ae4a-6022-4d6d-b665-4c7eee5637ba",
   "metadata": {},
   "outputs": [
    {
     "name": "stdout",
     "output_type": "stream",
     "text": [
      "[1, 2, 3, 4, 5, 6, 7, 8]\n",
      "[1, 2, 3, 4, 5, 6, 7, 8, 'h', 'e', 'l', 'l', 'o']\n",
      "[1, 2, 3, 4, 5, 6, 7, 8, 'h', 'e', 'l', 'l', 'o', 0, 1, 2, 3, 4, 5, 6, 7, 8, 9]\n",
      "[1, 2, 3, 4, 5, 6, 7, 8, 'h', 'e', 'l', 'l', 'o', 0, 1, 2, 3, 4, 5, 6, 7, 8, 9, 1, 2, 3]\n",
      "[1, 2, 3, 4, 5, 6, 7, 8, 'h', 'e', 'l', 'l', 'o', 0, 1, 2, 3, 4, 5, 6, 7, 8, 9, 1, 2, 3, 6, 7, [1, 8, 'a']]\n"
     ]
    },
    {
     "ename": "TypeError",
     "evalue": "list.extend() takes exactly one argument (3 given)",
     "output_type": "error",
     "traceback": [
      "\u001b[1;31m---------------------------------------------------------------------------\u001b[0m",
      "\u001b[1;31mTypeError\u001b[0m                                 Traceback (most recent call last)",
      "Cell \u001b[1;32mIn[37], line 18\u001b[0m\n\u001b[0;32m     15\u001b[0m l\u001b[38;5;241m.\u001b[39mextend([\u001b[38;5;241m6\u001b[39m,\u001b[38;5;241m7\u001b[39m,[\u001b[38;5;241m1\u001b[39m,\u001b[38;5;241m8\u001b[39m,\u001b[38;5;124m\"\u001b[39m\u001b[38;5;124ma\u001b[39m\u001b[38;5;124m\"\u001b[39m]])\n\u001b[0;32m     16\u001b[0m \u001b[38;5;28mprint\u001b[39m(l)\n\u001b[1;32m---> 18\u001b[0m \u001b[43ml\u001b[49m\u001b[38;5;241;43m.\u001b[39;49m\u001b[43mextend\u001b[49m\u001b[43m(\u001b[49m\u001b[38;5;241;43m1\u001b[39;49m\u001b[43m,\u001b[49m\u001b[38;5;241;43m2\u001b[39;49m\u001b[43m,\u001b[49m\u001b[38;5;241;43m3\u001b[39;49m\u001b[43m)\u001b[49m \u001b[38;5;66;03m#only one\u001b[39;00m\n\u001b[0;32m     19\u001b[0m \u001b[38;5;28mprint\u001b[39m(l) \n",
      "\u001b[1;31mTypeError\u001b[0m: list.extend() takes exactly one argument (3 given)"
     ]
    }
   ],
   "source": [
    "#extend\n",
    "l = [1,2,3,4,5]\n",
    "l.extend([6,7,8])\n",
    "print(l)\n",
    "\n",
    "l.extend(\"hello\")\n",
    "print(l)\n",
    "\n",
    "l.extend(range(10))\n",
    "print(l)\n",
    "\n",
    "l.extend((1,2,3))\n",
    "print(l)\n",
    "\n",
    "l.extend([6,7,[1,8,\"a\"]])\n",
    "print(l)\n",
    "\n",
    "l.extend(1,2,3) #only one\n",
    "print(l) \n",
    "\n"
   ]
  },
  {
   "cell_type": "code",
   "execution_count": 38,
   "id": "b1be9046-567c-4dee-a7ab-b7d75703ce23",
   "metadata": {},
   "outputs": [
    {
     "name": "stdout",
     "output_type": "stream",
     "text": [
      "[1, 100, 2, 3, 4, 5]\n",
      "[1, [1, 2], 100, 2, 3, 4, 5]\n",
      "[1, {5: 4, 7: 5}, [1, 2], 100, 2, 3, 4, 5]\n",
      "[1, {5: 4, 7: 5}, 'hello', [1, 2], 100, 2, 3, 4, 5]\n"
     ]
    }
   ],
   "source": [
    "#insert\n",
    "l = [1,2,3,4,5]\n",
    "l.insert(1,100)\n",
    "print(l)\n",
    "\n",
    "l.insert(1,[1,2])\n",
    "print(l)\n",
    "\n",
    "l.insert(1,{5:4,7:5})\n",
    "print(l)\n",
    "\n",
    "l.insert(2,\"hello\")\n",
    "print(l)\n"
   ]
  },
  {
   "cell_type": "code",
   "execution_count": 39,
   "id": "eafae8bf-534c-483d-8bce-7435b6bb0918",
   "metadata": {},
   "outputs": [
    {
     "name": "stdout",
     "output_type": "stream",
     "text": [
      "[1, 200, 300, 400, 500]\n"
     ]
    }
   ],
   "source": [
    "# Editing \n",
    "l = [1,2,3,4,5]\n",
    "l[-1] = 500\n",
    "l[1:4] = [200,300,400]\n",
    "print(l)"
   ]
  },
  {
   "cell_type": "code",
   "execution_count": 40,
   "id": "b11b07af-8dbe-4081-b8bf-67c825b64975",
   "metadata": {},
   "outputs": [
    {
     "name": "stdout",
     "output_type": "stream",
     "text": [
      "[1, 4]\n"
     ]
    }
   ],
   "source": [
    "# del\n",
    "l = [1,2,3,4,5]\n",
    "\n",
    "# indexing\n",
    "del l[-1] #5\n",
    "\n",
    "# slicing\n",
    "del l[1:3]  #2,3\n",
    "print(l)\n"
   ]
  },
  {
   "cell_type": "code",
   "execution_count": 41,
   "id": "c8ec26d0-e134-4e85-9b54-fe20065b7c95",
   "metadata": {},
   "outputs": [
    {
     "name": "stdout",
     "output_type": "stream",
     "text": [
      "[1, 3, 4, 5, 2]\n"
     ]
    }
   ],
   "source": [
    "# remove \n",
    "l = [1,2,3,4,5,2] \n",
    "l.remove(2) #remove first 2 \n",
    "print(l)"
   ]
  },
  {
   "cell_type": "code",
   "execution_count": 42,
   "id": "8ae62bfc-de36-4978-9644-063bd96c166d",
   "metadata": {},
   "outputs": [
    {
     "name": "stdout",
     "output_type": "stream",
     "text": [
      "[1, 2, 3, 4]\n",
      "[1, 2, 4]\n",
      "[1, 2]\n",
      "[]\n"
     ]
    }
   ],
   "source": [
    "#pop\n",
    "l = [1,2,3,4,5] \n",
    "l.pop()\n",
    "print(l)\n",
    "l.pop(2)\n",
    "print(l)\n",
    "l.pop(2)\n",
    "print(l)\n",
    "\n",
    "#clear\n",
    "l.clear()\n",
    "print(l)"
   ]
  },
  {
   "cell_type": "code",
   "execution_count": 43,
   "id": "80f6a967-579a-4f52-ac23-c99bfa8af64e",
   "metadata": {},
   "outputs": [
    {
     "name": "stdout",
     "output_type": "stream",
     "text": [
      "[1, 2, 3, 4, 5, 6, 7, 8]\n",
      "[1, 2, 3, 4, 1, 2, 3, 4, 1, 2, 3, 4]\n"
     ]
    }
   ],
   "source": [
    "#Operations\n",
    "\n",
    "# Arithmetic (+ ,*)\n",
    "l1 = [1,2,3,4] \n",
    "l2 = [5,6,7,8]\n",
    "print(l1+l2)\n",
    "print(l1*3)"
   ]
  },
  {
   "cell_type": "code",
   "execution_count": 44,
   "id": "02f54e97-17d4-4d65-8093-6a07a3f79e7b",
   "metadata": {},
   "outputs": [
    {
     "name": "stdout",
     "output_type": "stream",
     "text": [
      "False\n",
      "True\n",
      "True\n"
     ]
    }
   ],
   "source": [
    "#membership\n",
    "l1 = [1,2,3,4,5] \n",
    "l2 = [1,2,3,4,[5,6]]\n",
    "print(5 not in l1) \n",
    "print([5,6] in l2) \n",
    "print(5 not in l2)"
   ]
  },
  {
   "cell_type": "code",
   "execution_count": 45,
   "id": "36e070eb-60d1-4542-a058-02d13ad09b89",
   "metadata": {},
   "outputs": [
    {
     "name": "stdout",
     "output_type": "stream",
     "text": [
      "1\n",
      "2\n",
      "3\n",
      "4\n",
      "5\n"
     ]
    }
   ],
   "source": [
    "l1 = [1,2,3,4,5] \n",
    "for i in l1:\n",
    "    print(i)"
   ]
  },
  {
   "cell_type": "code",
   "execution_count": 46,
   "id": "ff093a07-6a62-4ed5-ad57-a04a9c4c800c",
   "metadata": {},
   "outputs": [
    {
     "name": "stdout",
     "output_type": "stream",
     "text": [
      "1\n",
      "2\n",
      "3\n",
      "4\n",
      "5\n"
     ]
    }
   ],
   "source": [
    "l1 = [1,2,3,4,5] \n",
    "for i in l1:\n",
    "    print(i)"
   ]
  },
  {
   "cell_type": "code",
   "execution_count": 47,
   "id": "2eb8f1c0-45b0-4312-92ae-1f1d7aac8db2",
   "metadata": {},
   "outputs": [
    {
     "name": "stdout",
     "output_type": "stream",
     "text": [
      "5\n",
      "5\n",
      "[5, 6]\n",
      "k\n",
      "1\n",
      "abv\n",
      "6\n",
      "[1, 2, 3, 3, 4, 4, 5, 5, 7]\n",
      "[7, 5, 5, 4, 4, 3, 3, 2, 1]\n",
      "[[1, 2], [3, 6], [5, 4]]\n",
      "2\n",
      "2\n",
      "2\n",
      "0\n",
      "6\n",
      "[0, 7, 5, 1, 2]\n",
      "[2, 1, 5, 7, 0]\n",
      "1997543421376\n",
      "[2, 1, 5, 7, 0]\n",
      "1997543414144\n"
     ]
    }
   ],
   "source": [
    "#list  function\n",
    "# len min max sum sort sorted count index reverse sort \n",
    "l = [2,1,5,7,0]\n",
    "print(len(l))\n",
    "\n",
    "l=[1,2,3,4,5]\n",
    "print(max(l))\n",
    "\n",
    "l=[[1,2],[3,4],[5,6]] \n",
    "print(max(l))\n",
    "\n",
    "l=[\"abv\",\"k\",\"k\"]\n",
    "print(max(l))\n",
    "\n",
    "l=[1,2,3,4,5]\n",
    "print(min(l))\n",
    "\n",
    "l=[\"abv\",\"k\",\"k\"]\n",
    "print(min(l))\n",
    "\n",
    "l=[1,2,3] \n",
    "print(sum(l))\n",
    "\n",
    "l=[1,5,3,4,5,7,2,3,4]\n",
    "l.sort()\n",
    "print(l)\n",
    "\n",
    "l=[1,5,3,4,5,7,2,3,4]\n",
    "print(sorted(l,reverse=True))\n",
    "\n",
    "l=[[1,2],[5,4],[3,6]] \n",
    "l.sort()\n",
    "print(l)\n",
    "\n",
    "l=[1,2,1,\"a\",(1,2),(3,4),(1,2),\"a\"]\n",
    "print(l.count(1)) \n",
    "print(l.count('a'))\n",
    "print(l.count((1,2)))\n",
    "\n",
    "l = [1,2,1,3,4,1,5]\n",
    "print(l.index(1))\n",
    "\n",
    "l = [1,2,1,3,4,1,(1,5)] \n",
    "print(l.index((1,5)))\n",
    "\n",
    "l = [2,1,5,7,0]\n",
    "l.reverse()\n",
    "print(l)\n",
    "\n",
    "l = [2,1,5,7,0] \n",
    "print(l)\n",
    "print(id(l))\n",
    "l1 = l.copy() \n",
    "print(l1)\n",
    "print(id(l1))\n"
   ]
  },
  {
   "cell_type": "code",
   "execution_count": 48,
   "id": "d8782524-9b56-4aef-8991-f3f9ed750bf6",
   "metadata": {},
   "outputs": [
    {
     "name": "stdout",
     "output_type": "stream",
     "text": [
      "[9, 3, 1, 6]\n",
      "['o', 'l', 'l', 'e', 'h']\n",
      "(3, 55, -90, 11, 44)\n",
      "(9, 3, 1, 6)\n"
     ]
    }
   ],
   "source": [
    "print( list(reversed((6, 1, 3, 9))))\n",
    "print(list(reversed(\"hello\")))\n",
    "print(tuple(reversed([44, 11, -90, 55, 3])))\n",
    "print( tuple(reversed((6, 1, 3, 9))))"
   ]
  },
  {
   "cell_type": "code",
   "execution_count": 49,
   "id": "7782aa1f-f9cf-4814-ab6b-2331ec8ad67b",
   "metadata": {},
   "outputs": [
    {
     "name": "stdin",
     "output_type": "stream",
     "text": [
      " 25\n"
     ]
    },
    {
     "name": "stdout",
     "output_type": "stream",
     "text": [
      "<class 'int'>\n"
     ]
    }
   ],
   "source": [
    "# Python eval(): for eny type of inputs\n",
    "ip=(eval(input())) \n",
    "print(type(ip))"
   ]
  },
  {
   "cell_type": "code",
   "execution_count": 51,
   "id": "e83bf32c-0f62-4016-8d57-4c42d400fd4c",
   "metadata": {},
   "outputs": [
    {
     "data": {
      "text/plain": [
       "{}"
      ]
     },
     "execution_count": 51,
     "metadata": {},
     "output_type": "execute_result"
    }
   ],
   "source": [
    "#============================================>Dictionaries<=============================================\n",
    "d = {}\n",
    "d"
   ]
  },
  {
   "cell_type": "code",
   "execution_count": 52,
   "id": "3bd6c992-6e1b-4fee-a4eb-5cda9a28bb7c",
   "metadata": {},
   "outputs": [
    {
     "name": "stdout",
     "output_type": "stream",
     "text": [
      "{'name': 'nitish', 'gender': 'male'}\n",
      "{(1, 2, 3): 1, 'hello': 'world'}\n"
     ]
    }
   ],
   "source": [
    "# 1D dictionary\n",
    "d1 = { 'name' : 'nitish' ,'gender' : 'male' } \n",
    "print(d1)\n",
    "\n",
    "d2 = {(1,2,3):1,'hello':'world'} \n",
    "print(d2)"
   ]
  },
  {
   "cell_type": "code",
   "execution_count": 53,
   "id": "0dbd2fc2-ed31-4a62-8518-9672428cc66a",
   "metadata": {},
   "outputs": [
    {
     "name": "stdout",
     "output_type": "stream",
     "text": [
      "{'name': 'nitish', 'age': 32, 3: 3}\n"
     ]
    }
   ],
   "source": [
    "d = dict([('name','nitish'),('age',32),(3,3)])\n",
    "print(d)"
   ]
  },
  {
   "cell_type": "code",
   "execution_count": 54,
   "id": "e98de76f-daa1-4967-81b1-2186da7a2b6f",
   "metadata": {},
   "outputs": [
    {
     "name": "stdout",
     "output_type": "stream",
     "text": [
      "[]\n"
     ]
    }
   ],
   "source": [
    "#Accessing\n",
    "dict = {'name': 'Jack', 'age': 26}\n",
    "print([])"
   ]
  },
  {
   "cell_type": "code",
   "execution_count": 55,
   "id": "c321e548-20d0-40eb-89c5-49a821314e85",
   "metadata": {},
   "outputs": [
    {
     "data": {
      "text/plain": [
       "26"
      ]
     },
     "execution_count": 55,
     "metadata": {},
     "output_type": "execute_result"
    }
   ],
   "source": [
    "dict = {'name': 'Jack', 'age': 26}\n",
    "dict['age']"
   ]
  },
  {
   "cell_type": "code",
   "execution_count": 56,
   "id": "536bdf27-247d-4000-98cf-bead80e35ef0",
   "metadata": {},
   "outputs": [
    {
     "name": "stdout",
     "output_type": "stream",
     "text": [
      "{'name': 'nitish', 'college': 'bit', 'sem': 4, 'subjects': {'dsa': 50, 'maths': 67, 'english': 34, 'ds': 75}}\n"
     ]
    }
   ],
   "source": [
    "s = {'name':'nitish','college':'bit','sem':4,'subjects':{'dsa':50,'maths':67,'english':34}}\n",
    "s['subjects']['ds'] = 75\n",
    "print(s)"
   ]
  },
  {
   "cell_type": "code",
   "execution_count": 57,
   "id": "257e37f7-6cce-4e9a-8b13-c39bb152217f",
   "metadata": {},
   "outputs": [
    {
     "name": "stdout",
     "output_type": "stream",
     "text": [
      "{'name': 'nitish', 3: 3, 'gender': 'male', 'weight': 72}\n",
      "{'name': 'nitish', 'gender': 'male', 'weight': 72}\n",
      "True\n",
      "False\n"
     ]
    }
   ],
   "source": [
    "#pop\n",
    "d = {'name': 'nitish', 'age': 32, 3: 3, 'gender': 'male', 'weight': 72}\n",
    "d.pop('age')\n",
    "print(d)\n",
    "d.pop(3)\n",
    "print(d)\n",
    "print('gender' in d)\n",
    "print('jay' in d)"
   ]
  },
  {
   "cell_type": "code",
   "execution_count": 58,
   "id": "9dd2e5ee-6e5b-4fc6-b229-9b1ba1a6adc4",
   "metadata": {},
   "outputs": [
    {
     "name": "stdout",
     "output_type": "stream",
     "text": [
      "3\n",
      "['age', 'gender', 'name']\n",
      "['name', 'gender', 'age']\n",
      "name\n",
      "age\n",
      "name\n",
      "gender\n",
      "age\n",
      "nitish\n",
      "male\n",
      "33\n",
      "name nitish\n",
      "gender male\n",
      "age 33\n"
     ]
    }
   ],
   "source": [
    "#Dictionary function\n",
    "d = {'name':'nitish','gender':'male','age':33} \n",
    "print(len(d))\n",
    "\n",
    "d = {'name':'nitish','gender':'male','age':33} \n",
    "print(sorted(d))\n",
    "print(sorted(d,reverse=True))\n",
    "print(max(d))\n",
    "print(min(d))\n",
    "\n",
    "for i in d.keys():\n",
    "    print(i)\n",
    "for i in d.values():\n",
    "    print(i)\n",
    "for i,j in d.items():\n",
    "    print(i,j)"
   ]
  },
  {
   "cell_type": "code",
   "execution_count": 59,
   "id": "fa742553-c80f-4f0e-9791-ca4362d9dcf6",
   "metadata": {},
   "outputs": [
    {
     "name": "stdout",
     "output_type": "stream",
     "text": [
      "{1: 2, 3: 4, 4: 7, 6: 8}\n"
     ]
    }
   ],
   "source": [
    "# update\n",
    "d1 = {1:2,3:4,4:5}\n",
    "d2 = {4:7,6:8}\n",
    "d1.update(d2)\n",
    "print(d1)"
   ]
  },
  {
   "cell_type": "code",
   "execution_count": 60,
   "id": "9a4a9e4e-b538-4aed-9525-f561112addaa",
   "metadata": {},
   "outputs": [
    {
     "name": "stdout",
     "output_type": "stream",
     "text": [
      "{'name': 'nitish', 'gender': 'male', 'age': 33}\n"
     ]
    }
   ],
   "source": [
    "d = {'name':'nitish','gender':'male','age':33}\n",
    "d.setdefault(\"age\",55)\n",
    "print(d)"
   ]
  },
  {
   "cell_type": "code",
   "execution_count": 61,
   "id": "2e0229a6-9a74-42b9-8a33-f437c7121d80",
   "metadata": {},
   "outputs": [
    {
     "name": "stdout",
     "output_type": "stream",
     "text": [
      "{'name': 'nitish', 'gender': 'male', 'age': 33, 'year': 55}\n"
     ]
    }
   ],
   "source": [
    "d = {'name':'nitish','gender':'male','age':33}\n",
    "d.setdefault(\"year\",55)\n",
    "print(d)"
   ]
  },
  {
   "cell_type": "code",
   "execution_count": 62,
   "id": "5d8d374e-454a-4c6f-92e3-380f8d34af0e",
   "metadata": {},
   "outputs": [
    {
     "name": "stdout",
     "output_type": "stream",
     "text": [
      "{'key1': 0, 'key2': 0, 'key3': 0}\n"
     ]
    }
   ],
   "source": [
    "#dict.fromkeys()\n",
    "x = ('key1', 'key2', 'key3')\n",
    "y=0\n",
    "thisdict = dict.fromkeys(x, y)\n",
    "print(thisdict)"
   ]
  },
  {
   "cell_type": "code",
   "execution_count": 63,
   "id": "c7c8c419-da6b-4bd3-9db5-07ed8b7827a8",
   "metadata": {},
   "outputs": [
    {
     "data": {
      "text/plain": [
       "{'phone': 10, 'charger': 32}"
      ]
     },
     "execution_count": 63,
     "metadata": {},
     "output_type": "execute_result"
    }
   ],
   "source": [
    "# using if condition\n",
    "products = {'phone':10,'laptop':0,'charger':32,'tablet':0}\n",
    "{key:value for (key,value) in products.items() if value>0}"
   ]
  },
  {
   "cell_type": "code",
   "execution_count": 64,
   "id": "b30a985e-bdd8-4b49-b28d-92dde723571a",
   "metadata": {},
   "outputs": [
    {
     "name": "stdout",
     "output_type": "stream",
     "text": [
      "7\n",
      "even\n"
     ]
    },
    {
     "data": {
      "text/plain": [
       "35"
      ]
     },
     "execution_count": 64,
     "metadata": {},
     "output_type": "execute_result"
    }
   ],
   "source": [
    "#===========================================>lambda<==================================================\n",
    "# Benefits  of  using  a  Function\n",
    "# •    Code  Modularity\n",
    "# •    Code  Readibility\n",
    "# •    Code  Reusability\n",
    "a = lambda x,y:x+y \n",
    "print(a(5,2))\n",
    "\n",
    "a=lambda x:'even' if x%2==0 else \"odd\" \n",
    "print(a(4))\n",
    "\n",
    "(lambda a,b:a*b)(5,7)"
   ]
  },
  {
   "cell_type": "code",
   "execution_count": 65,
   "id": "d635b1d8-360d-41ea-bfbe-9fc74f4147e1",
   "metadata": {},
   "outputs": [
    {
     "name": "stdout",
     "output_type": "stream",
     "text": [
      "114\n",
      "10\n"
     ]
    }
   ],
   "source": [
    "product=lambda x,y,z:x+(y*z) \n",
    "print(product(y=52, x=10, z=2)) \n",
    "print(product(4,2,3))"
   ]
  },
  {
   "cell_type": "code",
   "execution_count": 66,
   "id": "b3e40e7d-6db4-41d4-921e-e0f14509b14c",
   "metadata": {},
   "outputs": [
    {
     "name": "stdout",
     "output_type": "stream",
     "text": [
      "40\n",
      "27\n",
      "40\n",
      "14\n"
     ]
    }
   ],
   "source": [
    "add=lambda x,y=15,z=24:x+y+z \n",
    "print(add(1))\n",
    "print(add(1,2)) \n",
    "print(add(y=15,z=20,x=5)) \n",
    "print(add(2,5,7))"
   ]
  },
  {
   "cell_type": "code",
   "execution_count": 67,
   "id": "d07ef714-dfdc-4478-96d8-5b0675a67dc7",
   "metadata": {},
   "outputs": [
    {
     "name": "stdout",
     "output_type": "stream",
     "text": [
      "[40, 56]\n"
     ]
    }
   ],
   "source": [
    "list1=[10,40,56,27,13,15,70] \n",
    "divide=list(filter(lambda x: (x%4==0),list1)) \n",
    "print(divide)"
   ]
  },
  {
   "cell_type": "code",
   "execution_count": 68,
   "id": "42c5041c-fff4-4a58-8340-75fa733bc360",
   "metadata": {},
   "outputs": [
    {
     "data": {
      "text/plain": [
       "[6, 7]"
      ]
     },
     "execution_count": 68,
     "metadata": {},
     "output_type": "execute_result"
    }
   ],
   "source": [
    "L = [3,4,5,6,7]\n",
    "list(filter(lambda x:x>5,L))"
   ]
  },
  {
   "cell_type": "code",
   "execution_count": 69,
   "id": "57c3eb20-c0ea-4409-b080-6bef753057c2",
   "metadata": {},
   "outputs": [
    {
     "data": {
      "text/plain": [
       "['apple', 'aBC']"
      ]
     },
     "execution_count": 69,
     "metadata": {},
     "output_type": "execute_result"
    }
   ],
   "source": [
    "fruits = ['apple','guava','cherry','aBC','ABC'] \n",
    "list(filter(lambda x:x.startswith('a'),fruits))"
   ]
  },
  {
   "cell_type": "code",
   "execution_count": 70,
   "id": "52b53557-689c-49c6-95dc-1b83f797612c",
   "metadata": {},
   "outputs": [
    {
     "name": "stdout",
     "output_type": "stream",
     "text": [
      "[20, 80, 112, 54, 26, 30, 140]\n"
     ]
    }
   ],
   "source": [
    "list2=[10,40,56,27,13,15,70] \n",
    "double=list(map(lambda x:x*2,list2)) \n",
    "print(double)"
   ]
  },
  {
   "cell_type": "code",
   "execution_count": 71,
   "id": "4e3eb587-001d-42d6-9aa8-ab5f0f26681f",
   "metadata": {},
   "outputs": [
    {
     "name": "stdout",
     "output_type": "stream",
     "text": [
      "[8, 125, 1000, 216, 64]\n"
     ]
    }
   ],
   "source": [
    "list3=[2,5,10,6,4]\n",
    "cube=list(map(lambda x:x**3,list3)) \n",
    "print(cube)"
   ]
  },
  {
   "cell_type": "code",
   "execution_count": 72,
   "id": "378bd84f-fa0b-4ce1-a7bf-d3106bed9b1e",
   "metadata": {},
   "outputs": [
    {
     "name": "stdout",
     "output_type": "stream",
     "text": [
      "4800\n"
     ]
    }
   ],
   "source": [
    "from functools import reduce \n",
    "list4=[2,5,10,6,4,2] \n",
    "sum=reduce(lambda x,y:x*y,list4) \n",
    "print(sum)"
   ]
  },
  {
   "cell_type": "code",
   "execution_count": 73,
   "id": "a662ac61-8faa-40ef-8d59-023e64fb6419",
   "metadata": {},
   "outputs": [
    {
     "name": "stdout",
     "output_type": "stream",
     "text": [
      "10\n"
     ]
    }
   ],
   "source": [
    "def quadratic(a,b,c):\n",
    "    return lambda x: a*x**2+b*x+c \n",
    "print(quadratic(2,3,5)(1))"
   ]
  },
  {
   "cell_type": "code",
   "execution_count": 74,
   "id": "68e60668-fcd2-40fb-91f6-bc2675f28c73",
   "metadata": {},
   "outputs": [
    {
     "data": {
      "text/plain": [
       "15"
      ]
     },
     "execution_count": 74,
     "metadata": {},
     "output_type": "execute_result"
    }
   ],
   "source": [
    "import functools\n",
    "functools.reduce(lambda x,y:x+y,[1,2,3,4,5])"
   ]
  },
  {
   "cell_type": "code",
   "execution_count": 75,
   "id": "20212499-d517-4eba-92e2-b8925316b06f",
   "metadata": {},
   "outputs": [
    {
     "name": "stdout",
     "output_type": "stream",
     "text": [
      "[1, 2, 3, 4, 5, 6]\n",
      "[1, 2, 3, 4, 5, 6]\n",
      "[(1, 'a'), (2, 'c'), (3, 'b')]\n",
      "\n",
      "[(1, 'a'), (3, 'b'), (2, 'c')]\n",
      "dict_items([(1, 'a'), (2, 'c'), (3, 'b')])\n",
      "\n",
      "[(2, 11), (4, 12), (1, 15), (3, 17)]\n",
      "\n"
     ]
    }
   ],
   "source": [
    "#reverse=True/False   key=none\n",
    "l1=[1,2,3,4,5,6] \n",
    "print(sorted(l1)) \n",
    "t1=(1,2,3,4,5,6) \n",
    "print(sorted(t1))\n",
    "d1={1:'a',2:'c',3:\"b\"} \n",
    "print(sorted(d1.items()))\n",
    "print()\n",
    "\n",
    "d1={1:'a',2:'c',3:\"b\"}\n",
    "print(sorted(d1.items(),key=lambda x:x[1])) \n",
    "print(d1.items())\n",
    "print()\n",
    "\n",
    "t=[(1,15),(2,11),(3,17),(4,12)]\n",
    "def second(z):\n",
    "    return z[1]\n",
    "print(sorted(t,key=second))\n",
    "print()\n"
   ]
  },
  {
   "cell_type": "code",
   "execution_count": null,
   "id": "7f3d6ee3-0e20-45fc-bd72-84f6c95d8a8d",
   "metadata": {},
   "outputs": [],
   "source": []
  }
 ],
 "metadata": {
  "kernelspec": {
   "display_name": "Python 3 (ipykernel)",
   "language": "python",
   "name": "python3"
  },
  "language_info": {
   "codemirror_mode": {
    "name": "ipython",
    "version": 3
   },
   "file_extension": ".py",
   "mimetype": "text/x-python",
   "name": "python",
   "nbconvert_exporter": "python",
   "pygments_lexer": "ipython3",
   "version": "3.11.5"
  }
 },
 "nbformat": 4,
 "nbformat_minor": 5
}
